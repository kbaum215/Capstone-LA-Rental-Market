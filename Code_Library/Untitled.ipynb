{
 "cells": [
  {
   "cell_type": "code",
   "execution_count": 7,
   "id": "d7703b67-9f91-4516-967f-734c7b72c3c6",
   "metadata": {},
   "outputs": [],
   "source": [
    "# height in ft\n",
    "ceiling_height = 10 # in feet"
   ]
  },
  {
   "cell_type": "code",
   "execution_count": 8,
   "id": "192072fd-c584-4f17-94df-2971580003dd",
   "metadata": {},
   "outputs": [],
   "source": [
    "def quarters_amount(ceiling_height):\n",
    "    quarter_width = 0.069 # in inches\n",
    "\n",
    "    ceiling_height_in_inches = ceiling_height * 12\n",
    "\n",
    "    number_of_quarters = 0\n",
    "    stacked_quarter_height = 0\n",
    "\n",
    "    while stacked_quarter_height < ceiling_height_in_inches:\n",
    "        number_of_quarters += 1\n",
    "        stacked_quarter_height += quarter_width\n",
    "\n",
    "    return number_of_quarters"
   ]
  },
  {
   "cell_type": "code",
   "execution_count": 9,
   "id": "6597f2fa-9333-4c3e-8354-7b78ae152cc2",
   "metadata": {},
   "outputs": [
    {
     "name": "stdout",
     "output_type": "stream",
     "text": [
      "Number of quarters = 1740\n"
     ]
    }
   ],
   "source": [
    "total_quarters = quarters_amount(ceiling_height)\n",
    "print(f'Number of quarters = {total_quarters}')"
   ]
  }
 ],
 "metadata": {
  "kernelspec": {
   "display_name": "Python 3 (ipykernel)",
   "language": "python",
   "name": "python3"
  },
  "language_info": {
   "codemirror_mode": {
    "name": "ipython",
    "version": 3
   },
   "file_extension": ".py",
   "mimetype": "text/x-python",
   "name": "python",
   "nbconvert_exporter": "python",
   "pygments_lexer": "ipython3",
   "version": "3.11.4"
  }
 },
 "nbformat": 4,
 "nbformat_minor": 5
}

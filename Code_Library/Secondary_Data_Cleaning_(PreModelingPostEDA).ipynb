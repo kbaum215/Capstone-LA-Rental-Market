{
 "cells": [
  {
   "cell_type": "markdown",
   "id": "32aaa2b7-754e-4482-b625-f80365da585e",
   "metadata": {},
   "source": [
    "## Data Prep for Modeling\n",
    "\n",
    "We are looking to make the data \"model ready.\" What we ultimately find in the data is that there are many with  \"N/A\" values for square feet. We want to use this metric, and dropping the square feet does not drastically affect the amount of records we have for modeling purposes. Thus, we do that here.\n",
    "\n",
    "We do not want to continually edit the modeling data (updated as of 04/13/2024) because the commentary is based on a single data pull. Thus, we need to put in a conditional to see if it already exists. If it does, this means we will process the daily refreshed data. The data does already exist, so this conditional is simply meant to show work; this data is not meant to be edited for the modeling phase. Again, this is so that the commentary and results will stay consistent. "
   ]
  },
  {
   "cell_type": "code",
   "execution_count": 1,
   "id": "4d6538b4-77ee-45c4-8454-cb372c2f0e70",
   "metadata": {},
   "outputs": [],
   "source": [
    "import numpy as np\n",
    "import pandas as pd\n",
    "import os\n",
    "\n",
    "# Set the max columns to infinite so that we may view all of them\n",
    "pd.set_option('display.max_columns', None)"
   ]
  },
  {
   "cell_type": "markdown",
   "id": "aca48ec9-163f-40c1-8790-378659bec118",
   "metadata": {},
   "source": [
    "#### Import the cleaned data. \n",
    "\n",
    "This is the same data that is explored in the EDA file."
   ]
  },
  {
   "cell_type": "code",
   "execution_count": 2,
   "id": "f4b91667-4fa3-4f5d-b19f-989953fdd6d6",
   "metadata": {},
   "outputs": [],
   "source": [
    "# File path to check for modeling data.\n",
    "modeling_data_path = '../Data/modeling_data.csv'"
   ]
  },
  {
   "cell_type": "code",
   "execution_count": 3,
   "id": "e2282e95-6292-4fa1-a3c2-9f6ac24cef58",
   "metadata": {},
   "outputs": [],
   "source": [
    "def check_if_file_exists():\n",
    "\n",
    "    # Check if the file exists\n",
    "    if os.path.exists(modeling_data_path):\n",
    "        \n",
    "        # If the file already exists, load data from the daily file\n",
    "        df = pd.read_csv('../Data/Primary_Data_Cleaned.csv')\n",
    "\n",
    "        # Return the primary data file df\n",
    "        return df\n",
    "        \n",
    "    else:\n",
    "        \n",
    "        # If the file does not exist, load data from the existing file path\n",
    "        df = pd.read_csv('../Data/Cleaned_Data_For_EDA.csv')\n",
    "\n",
    "        # Return the cleaned EDA file path df\n",
    "        return df"
   ]
  },
  {
   "cell_type": "code",
   "execution_count": 4,
   "id": "237e27f2-6815-4345-88d3-5ea7b913d1a9",
   "metadata": {},
   "outputs": [],
   "source": [
    "# Create the df using the conditional function\n",
    "df = check_if_file_exists()"
   ]
  },
  {
   "cell_type": "markdown",
   "id": "d42b6c4a-da0f-45eb-9603-aed116a41ee2",
   "metadata": {},
   "source": [
    "## Handling Null Values"
   ]
  },
  {
   "cell_type": "markdown",
   "id": "1cefb9c9-6579-4345-a528-8301ce89a587",
   "metadata": {},
   "source": [
    "#### We show and remove null values for modeling purposes.\n",
    "\n",
    "We remove the rows with null values for square feet and ones that do not have an address listed.\n",
    "\n",
    "The ones without addresses listed contain the string \"None listed.\" However, the null values show up in the location coordinates. When we remove the missing address ones, the null values in these rows (latitude, longitude, nearest_budget_grocery_store_distance, etc.) will reduce to none."
   ]
  },
  {
   "cell_type": "code",
   "execution_count": 5,
   "id": "b4cc87a7-59f8-485f-a7f5-ea2655196586",
   "metadata": {},
   "outputs": [
    {
     "data": {
      "text/plain": [
       "title                                      object\n",
       "price                                       int64\n",
       "Bedrooms                                   object\n",
       "square_feet                               float64\n",
       "full_address                               object\n",
       "monthly                                     int64\n",
       "apartment                                   int64\n",
       "cats_allowed                                int64\n",
       "dogs_allowed                                int64\n",
       "laundry_on_site                             int64\n",
       "air_conditioning                            int64\n",
       "off_street_parking                          int64\n",
       "EV_charging                                 int64\n",
       "washer_dryer_in_unit                        int64\n",
       "carport                                     int64\n",
       "no_smoking                                  int64\n",
       "attached_garage                             int64\n",
       "detached_garage                             int64\n",
       "laundry_in_bldg                             int64\n",
       "fee_needed_to_apply                         int64\n",
       "wheelchair_accessible                       int64\n",
       "no_parking                                  int64\n",
       "furnished                                   int64\n",
       "street_parking                              int64\n",
       "no_laundry_on_site                          int64\n",
       "house                                       int64\n",
       "washer_dryer_hookups                        int64\n",
       "date_added                                 object\n",
       "latitude                                  float64\n",
       "longitude                                 float64\n",
       "nearest_budget_grocery_store_distance     float64\n",
       "nearest_budget_grocery_store               object\n",
       "nearest_midTier_grocery_store_distance    float64\n",
       "nearest_midTier_grocery_store              object\n",
       "nearest_premium_grocery_store_distance    float64\n",
       "nearest_premium_grocery_store              object\n",
       "dtype: object"
      ]
     },
     "execution_count": 5,
     "metadata": {},
     "output_type": "execute_result"
    }
   ],
   "source": [
    "# Check Datatypes\n",
    "df.dtypes"
   ]
  },
  {
   "cell_type": "code",
   "execution_count": 6,
   "id": "e88ea228-34f2-4ed9-be6a-c38c50de6d20",
   "metadata": {},
   "outputs": [
    {
     "data": {
      "text/plain": [
       "title                                       0\n",
       "price                                       0\n",
       "Bedrooms                                    0\n",
       "square_feet                               229\n",
       "full_address                                0\n",
       "monthly                                     0\n",
       "apartment                                   0\n",
       "cats_allowed                                0\n",
       "dogs_allowed                                0\n",
       "laundry_on_site                             0\n",
       "air_conditioning                            0\n",
       "off_street_parking                          0\n",
       "EV_charging                                 0\n",
       "washer_dryer_in_unit                        0\n",
       "carport                                     0\n",
       "no_smoking                                  0\n",
       "attached_garage                             0\n",
       "detached_garage                             0\n",
       "laundry_in_bldg                             0\n",
       "fee_needed_to_apply                         0\n",
       "wheelchair_accessible                       0\n",
       "no_parking                                  0\n",
       "furnished                                   0\n",
       "street_parking                              0\n",
       "no_laundry_on_site                          0\n",
       "house                                       0\n",
       "washer_dryer_hookups                        0\n",
       "date_added                                  0\n",
       "latitude                                  403\n",
       "longitude                                 403\n",
       "nearest_budget_grocery_store_distance     403\n",
       "nearest_budget_grocery_store              403\n",
       "nearest_midTier_grocery_store_distance    403\n",
       "nearest_midTier_grocery_store             403\n",
       "nearest_premium_grocery_store_distance    403\n",
       "nearest_premium_grocery_store             403\n",
       "dtype: int64"
      ]
     },
     "execution_count": 6,
     "metadata": {},
     "output_type": "execute_result"
    }
   ],
   "source": [
    "# Show which features contain null values\n",
    "df.isna().sum()"
   ]
  },
  {
   "cell_type": "code",
   "execution_count": 7,
   "id": "85ec4210-cdff-469f-9b0c-145bd1859de9",
   "metadata": {},
   "outputs": [],
   "source": [
    "# Drop the rows with null square_feet measures\n",
    "df.dropna(subset=['square_feet'], inplace=True)"
   ]
  },
  {
   "cell_type": "code",
   "execution_count": 8,
   "id": "97b4bb02-3335-419a-a2e5-2361a57ae875",
   "metadata": {},
   "outputs": [],
   "source": [
    "# Create a copy of the DataFrame with the missing address rows filtered out\n",
    "filtered_listings_df = df[df['full_address'] != 'None listed'].copy()"
   ]
  },
  {
   "cell_type": "code",
   "execution_count": 9,
   "id": "9c2a03ff-eec1-4f3b-8e98-1a0ba04844e8",
   "metadata": {},
   "outputs": [
    {
     "data": {
      "text/plain": [
       "title                                     0\n",
       "price                                     0\n",
       "Bedrooms                                  0\n",
       "square_feet                               0\n",
       "full_address                              0\n",
       "monthly                                   0\n",
       "apartment                                 0\n",
       "cats_allowed                              0\n",
       "dogs_allowed                              0\n",
       "laundry_on_site                           0\n",
       "air_conditioning                          0\n",
       "off_street_parking                        0\n",
       "EV_charging                               0\n",
       "washer_dryer_in_unit                      0\n",
       "carport                                   0\n",
       "no_smoking                                0\n",
       "attached_garage                           0\n",
       "detached_garage                           0\n",
       "laundry_in_bldg                           0\n",
       "fee_needed_to_apply                       0\n",
       "wheelchair_accessible                     0\n",
       "no_parking                                0\n",
       "furnished                                 0\n",
       "street_parking                            0\n",
       "no_laundry_on_site                        0\n",
       "house                                     0\n",
       "washer_dryer_hookups                      0\n",
       "date_added                                0\n",
       "latitude                                  0\n",
       "longitude                                 0\n",
       "nearest_budget_grocery_store_distance     0\n",
       "nearest_budget_grocery_store              0\n",
       "nearest_midTier_grocery_store_distance    0\n",
       "nearest_midTier_grocery_store             0\n",
       "nearest_premium_grocery_store_distance    0\n",
       "nearest_premium_grocery_store             0\n",
       "dtype: int64"
      ]
     },
     "execution_count": 9,
     "metadata": {},
     "output_type": "execute_result"
    }
   ],
   "source": [
    "# Check to see that there are no null values now\n",
    "filtered_listings_df.isnull().sum()"
   ]
  },
  {
   "cell_type": "markdown",
   "id": "26372cfb-e3d2-4813-b397-a0ef28a972c5",
   "metadata": {},
   "source": [
    "#### Finally, we export the data.\n",
    "\n",
    "If the modeling data already exists (which should be the case), this will update the daily data additions, and have it ready to be loaded into the database. Otherwise, the modeling data is created."
   ]
  },
  {
   "cell_type": "code",
   "execution_count": 10,
   "id": "b386bcbb-1dab-4a9a-84b0-8fd6a6471cf4",
   "metadata": {},
   "outputs": [
    {
     "name": "stdout",
     "output_type": "stream",
     "text": [
      "Updated the load ready data.\n"
     ]
    }
   ],
   "source": [
    "if os.path.exists(modeling_data_path):\n",
    "    # Export for storage in Database\n",
    "    filtered_listings_df.to_csv('../Data/load_ready_data.csv', index=False)\n",
    "    print(f'Updated the load ready data.')\n",
    "else:\n",
    "    # Export for modeling\n",
    "    filtered_listings_df.to_csv('../Data/modeling_data.csv', index=False)\n",
    "    print(f'Updated the modeling data.')"
   ]
  }
 ],
 "metadata": {
  "kernelspec": {
   "display_name": "Python 3 (ipykernel)",
   "language": "python",
   "name": "python3"
  },
  "language_info": {
   "codemirror_mode": {
    "name": "ipython",
    "version": 3
   },
   "file_extension": ".py",
   "mimetype": "text/x-python",
   "name": "python",
   "nbconvert_exporter": "python",
   "pygments_lexer": "ipython3",
   "version": "3.11.4"
  }
 },
 "nbformat": 4,
 "nbformat_minor": 5
}

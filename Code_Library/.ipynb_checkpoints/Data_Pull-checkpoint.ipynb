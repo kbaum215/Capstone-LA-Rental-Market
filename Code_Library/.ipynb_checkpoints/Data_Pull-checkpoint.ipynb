{
 "cells": [
  {
   "cell_type": "markdown",
   "id": "10af196b-3d82-497b-a46f-8e801dcc9b10",
   "metadata": {},
   "source": [
    "# Data Pull"
   ]
  },
  {
   "cell_type": "markdown",
   "id": "73bab6e3-3178-4530-a62f-e26fb157b1b0",
   "metadata": {},
   "source": [
    "## Importing Libraries"
   ]
  },
  {
   "cell_type": "code",
   "execution_count": 1,
   "id": "dda57bc1-cdbe-41bc-bfdb-d0648a11623d",
   "metadata": {},
   "outputs": [],
   "source": [
    "import pandas as pd\n",
    "from requests import get\n",
    "from bs4 import BeautifulSoup\n",
    "import time\n",
    "import random\n",
    "from selenium import webdriver\n",
    "from selenium.webdriver.chrome.service import Service\n",
    "from selenium.webdriver.common.by import By\n",
    "from selenium.webdriver.chrome.options import Options\n",
    "from selenium.webdriver.common.by import By\n",
    "from selenium.webdriver.support.ui import WebDriverWait\n",
    "from selenium.webdriver.support import expected_conditions as EC"
   ]
  },
  {
   "cell_type": "markdown",
   "id": "c4291330-f456-40ff-b56e-109a6aa6c0c7",
   "metadata": {},
   "source": [
    "## Perform Web Scrape from Craigslist in Los Angeles"
   ]
  },
  {
   "cell_type": "markdown",
   "id": "6c7e9028-28e2-49d1-8d56-95061842cfb4",
   "metadata": {},
   "source": [
    "**A Note on the Default Search**\n",
    "\n",
    "The default starting page will have certain characteristics already standardized for the purposes of this project. I have narrowed the focus to only 1 bedroom, 1 bathroom apartments. There is also a specific map area being used. The map view is an area centered around Santa Monica, and encompasses the West Los Angeles region north of Manahattan Beach and south of Pacific Palisades. This area contains a high density of apartments, giving us a steady supply of data to pull.\n",
    "\n",
    "This pulls many results, and isolates two big cost factors in the forthcoming regression equation. This allows us to better view the effects of engineered features, which we will perform later. \n",
    "\n",
    "Our goal here is to cater the data science insights to me first with an eye towards scaling to a potential use case by anybody. Thus, while we will engineer the data infrastructure with an eye towards scaling the data quantity and features, we want to narrow the insights to be useful to at least one person (myself) before we expand further. This lets us behave pragmatically within the time constraints of a 7-week project. "
   ]
  },
  {
   "cell_type": "markdown",
   "id": "9563c747-ec42-4b1a-81dc-d557a61f475e",
   "metadata": {},
   "source": [
    "First, let's declare global variables that will be used in our code."
   ]
  },
  {
   "cell_type": "code",
   "execution_count": 2,
   "id": "df2541a3-38be-4430-a239-ee79738e7234",
   "metadata": {},
   "outputs": [],
   "source": [
    "## Global Variables ##\n",
    "\n",
    "craigslist_search_first_page_url = 'https://losangeles.craigslist.org/search/santa-monica-ca/apa?lat=34.0315&lon=-118.461&max_bathrooms=1&max_bedrooms=1&min_bathrooms=1&min_bedrooms=1&postal=90095&search_distance=3.6#search=1~list~0~0'\n",
    "chrome_driver_path = '../Other_Material/chromedriver-mac-arm64/chromedriver'"
   ]
  },
  {
   "cell_type": "markdown",
   "id": "a50ec4ce-5b79-4bbc-96a7-1183c0c9321f",
   "metadata": {},
   "source": [
    "Next, let's proceed with implementing our Selenium code to get the total listings amount. We write a function called \"get_postings_count\" that takes in the two arguments \"website\" and \"path\" and returns the post count. We need to use JavaScript here, because the post count is loaded dynamically into the webpage. "
   ]
  },
  {
   "cell_type": "code",
   "execution_count": 6,
   "id": "54513ff2-acb8-4480-9222-a086b40c1d4b",
   "metadata": {},
   "outputs": [],
   "source": [
    "def get_postings_count(website, path):\n",
    "    \n",
    "    # prevent a window from opening in Selenium\n",
    "    options = Options()\n",
    "    options.add_argument('--headless')\n",
    "    options.add_argument('--disable-gpu')\n",
    "    \n",
    "    # set up the Chrome driver path for Selenium usage\n",
    "    service = Service(path)\n",
    "    driver = webdriver.Chrome(service=service, options=options)\n",
    "\n",
    "    # Call a \"get\" instance of the initial Craigslist page to initialize Selenium\n",
    "    driver.get(website)\n",
    "\n",
    "    # Use a waiting period to make sure all the elements load for Selenium to inspect\n",
    "    wait = WebDriverWait(driver, 10)  # Wait for up to 10 seconds\n",
    "\n",
    "    try:\n",
    "        # Wait for the specific element to be present before executing the script\n",
    "        postings_count_element = wait.until(EC.presence_of_element_located((By.CSS_SELECTOR, '.cl-count-save-bar > div')))\n",
    "\n",
    "        # Use JavaScript to set up a script to return the postings count\n",
    "        postings_count_script = \"\"\"\n",
    "            var postingsDiv = document.querySelector('.cl-count-save-bar > div');\n",
    "            return postingsDiv ? postingsDiv.textContent : 'Postings count not found';\n",
    "        \"\"\"\n",
    "\n",
    "        # Execute the script to get the post count and return it\n",
    "        postings_count = driver.execute_script(postings_count_script)\n",
    "        return postings_count\n",
    "    finally:\n",
    "        # Exits Selenium\n",
    "        driver.quit()"
   ]
  },
  {
   "cell_type": "markdown",
   "id": "51254b18-808f-42ac-9888-462009d47dd9",
   "metadata": {},
   "source": [
    "Let's call the function now to get the postings count."
   ]
  },
  {
   "cell_type": "code",
   "execution_count": 7,
   "id": "d1e06641-4dd2-45d3-9dd9-4984f920f3b9",
   "metadata": {},
   "outputs": [],
   "source": [
    "postings_count = get_postings_count(craigslist_search_first_page_url, chrome_driver_path)"
   ]
  },
  {
   "cell_type": "markdown",
   "id": "d24c6798-5d22-40b0-81b9-42868e090c84",
   "metadata": {},
   "source": [
    "Finally, let's print the amount of posts to see what we are working with."
   ]
  },
  {
   "cell_type": "code",
   "execution_count": 8,
   "id": "89ff4a5a-74a6-4381-8c8c-6e5d26eb9d6e",
   "metadata": {},
   "outputs": [
    {
     "name": "stdout",
     "output_type": "stream",
     "text": [
      "2,399 postings\n"
     ]
    }
   ],
   "source": [
    "print(postings_count)"
   ]
  }
 ],
 "metadata": {
  "kernelspec": {
   "display_name": "Python 3 (ipykernel)",
   "language": "python",
   "name": "python3"
  },
  "language_info": {
   "codemirror_mode": {
    "name": "ipython",
    "version": 3
   },
   "file_extension": ".py",
   "mimetype": "text/x-python",
   "name": "python",
   "nbconvert_exporter": "python",
   "pygments_lexer": "ipython3",
   "version": "3.11.4"
  }
 },
 "nbformat": 4,
 "nbformat_minor": 5
}
